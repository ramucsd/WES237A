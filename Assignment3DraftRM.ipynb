{
 "cells": [
  {
   "cell_type": "code",
   "execution_count": 1,
   "id": "661851a3",
   "metadata": {},
   "outputs": [],
   "source": [
    "import ctypes\n",
    "import time\n",
    "import os\n",
    "import multiprocessing"
   ]
  },
  {
   "cell_type": "code",
   "execution_count": 2,
   "id": "3bc02b17",
   "metadata": {},
   "outputs": [],
   "source": [
    "_CCnt = ctypes.CDLL('./CCnt.so')"
   ]
  },
  {
   "cell_type": "code",
   "execution_count": 3,
   "id": "d35f9ac8",
   "metadata": {},
   "outputs": [
    {
     "name": "stdout",
     "output_type": "stream",
     "text": [
      "CPU Counters initialized\n"
     ]
    }
   ],
   "source": [
    "#initialize counter on both CPUs\n",
    "\n",
    "# Launch process on CPU0\n",
    "p1 = multiprocessing.Process(target=_CCnt.init, args=(1,0))\n",
    "os.system(\"taskset -p -c {} {}\".format(0, p1.pid))\n",
    "p1.start() # start the process\n",
    "\n",
    "# Launch process on CPU1\n",
    "p2 = multiprocessing.Process(target=_CCnt.init, args=(1,0))\n",
    "os.system(\"taskset -p -c {} {}\".format(1, p2.pid))\n",
    "p2.start() # start the process\n",
    "\n",
    "p1.join()\n",
    "p2.join()\n",
    "print('CPU Counters initialized')"
   ]
  },
  {
   "cell_type": "code",
   "execution_count": 10,
   "id": "b8942afa",
   "metadata": {},
   "outputs": [
    {
     "name": "stdout",
     "output_type": "stream",
     "text": [
      "422891648\n",
      "422891648\n"
     ]
    }
   ],
   "source": [
    "signed = _CCnt.getCC()\n",
    "unsigned = signed\n",
    "if unsigned < 0:\n",
    "    unsigned += 2**32\n",
    "print(signed)\n",
    "print(unsigned)"
   ]
  },
  {
   "cell_type": "code",
   "execution_count": 8,
   "id": "146bb1d6",
   "metadata": {},
   "outputs": [
    {
     "name": "stdout",
     "output_type": "stream",
     "text": [
      "2\n"
     ]
    }
   ],
   "source": [
    "t1 = 4294967295\n",
    "t2 = 1\n",
    "t3 = t2-t1\n",
    "t3 += 2**32\n",
    "print(t3)"
   ]
  },
  {
   "cell_type": "code",
   "execution_count": 11,
   "id": "8b504ce0",
   "metadata": {},
   "outputs": [],
   "source": [
    "def recur_fibo(n):\n",
    "   if n <= 1:\n",
    "       return n\n",
    "   else:\n",
    "       return(recur_fibo(n-1) + recur_fibo(n-2))\n"
   ]
  },
  {
   "cell_type": "code",
   "execution_count": 119,
   "id": "2db74661",
   "metadata": {},
   "outputs": [],
   "source": [
    "def timed_fib(n):\n",
    "    time.sleep(0.1) #delay is needed to allow this to be assigned to a specific core after starting the process\n",
    "    \n",
    "    _CCnt.init(1,0)\n",
    "    \n",
    "    t_before = time.time()\n",
    "    cc_before = _CCnt.getCC()\n",
    "\n",
    "    recur_fibo(n)\n",
    "        \n",
    "    cc_after = _CCnt.getCC()\n",
    "    t_after = time.time()\n",
    "\n",
    "    #convert to unsigned\n",
    "    if cc_after < 0:\n",
    "        cc_after += 2**32\n",
    "    if cc_before < 0:\n",
    "        cc_before += 2**32\n",
    "        \n",
    "    elapsed_time = t_after-t_before\n",
    "    num_cycles = cc_after-cc_before\n",
    "    \n",
    "    #account for possibility of overflow\n",
    "    if num_cycles < 0:\n",
    "        num_cycles += 2**32\n",
    "    \n",
    "    print(cc_before)\n",
    "    print(cc_after)\n",
    "    print(elapsed_time)\n",
    "    print(num_cycles)\n",
    "    \n",
    "    print('Time based on clock cycles')\n",
    "    print(num_cycles/650000000)"
   ]
  },
  {
   "cell_type": "code",
   "execution_count": 124,
   "id": "f458843e",
   "metadata": {},
   "outputs": [
    {
     "name": "stdout",
     "output_type": "stream",
     "text": [
      "26869\n",
      "215866277\n",
      "0.3321073055267334\n",
      "215839408\n",
      "Time based on clock cycles\n",
      "0.3320606276923077\n"
     ]
    }
   ],
   "source": [
    "n = 25\n",
    "#CPU = '0x01'\n",
    "CPU = 0\n",
    "\n",
    "#convert to bit mask\n",
    "#if CPU == 0:\n",
    "#    CPU = '0x01'\n",
    "#else:\n",
    "#    CPU = '0x02'\n",
    "\n",
    "\n",
    "p_fib = multiprocessing.Process(target=timed_fib, args=(n,))\n",
    "#print(p_fib.pid)\n",
    "#print(str)\n",
    "#os.system(\"taskset -p -c {} {}\".format(CPU, p_fib.pid))\n",
    "#os.system(\"taskset -p 0x02 {}\".format(p_fib.pid))\n",
    "#os.system(\"taskset -p {} {}\".format(CPU,p_fib.pid))\n",
    "#os.system(\"taskset -p 0x01 {}\".format(p_fib.pid))\n",
    "#os.system(str)\n",
    "#print(p_fib.pid)\n",
    "p_fib.start()\n",
    "os.system(\"taskset -pc {} {}\".format(CPU,p_fib.pid))\n",
    "#print(p_fib.pid)\n",
    "\n",
    "p_fib.join()"
   ]
  },
  {
   "cell_type": "code",
   "execution_count": 78,
   "id": "12e73ba6",
   "metadata": {},
   "outputs": [
    {
     "name": "stdout",
     "output_type": "stream",
     "text": [
      "2650201147\n",
      "3564701272\n",
      "1.4074559211730957\n",
      "914500125\n",
      "Time based on clock cycles\n",
      "1.4069232692307692\n"
     ]
    }
   ],
   "source": [
    "timed_fib(28)"
   ]
  },
  {
   "cell_type": "code",
   "execution_count": 88,
   "id": "e7911295",
   "metadata": {},
   "outputs": [],
   "source": [
    "#test with sleep\n",
    "def timed_sleep(n):\n",
    "    t_before = time.time()\n",
    "    cc_before = _CCnt.getCC()\n",
    "\n",
    "    time.sleep(n)\n",
    "        \n",
    "    cc_after = _CCnt.getCC()\n",
    "    t_after = time.time()\n",
    "\n",
    "    #convert to unsigned\n",
    "    if cc_after < 0:\n",
    "        cc_after += 2**32\n",
    "    if cc_before < 0:\n",
    "        cc_before += 2**32\n",
    "        \n",
    "    elapsed_time = t_after-t_before\n",
    "    num_cycles = cc_after-cc_before\n",
    "    \n",
    "    #account for possibility of overflow\n",
    "    if num_cycles < 0:\n",
    "        num_cycles += 2**32\n",
    "        \n",
    "    print(elapsed_time)\n",
    "    print(num_cycles)\n",
    "    \n",
    "    print('Time based on clock cycles')\n",
    "    print(num_cycles/650000000)\n"
   ]
  },
  {
   "cell_type": "code",
   "execution_count": 100,
   "id": "6f4aa73f",
   "metadata": {},
   "outputs": [
    {
     "name": "stdout",
     "output_type": "stream",
     "text": [
      "0.010259866714477539\n",
      "677229963\n",
      "Time based on clock cycles\n",
      "1.0418922507692308\n"
     ]
    }
   ],
   "source": [
    "timed_sleep(0.01)"
   ]
  }
 ],
 "metadata": {
  "kernelspec": {
   "display_name": "Python 3",
   "language": "python",
   "name": "python3"
  },
  "language_info": {
   "codemirror_mode": {
    "name": "ipython",
    "version": 3
   },
   "file_extension": ".py",
   "mimetype": "text/x-python",
   "name": "python",
   "nbconvert_exporter": "python",
   "pygments_lexer": "ipython3",
   "version": "3.8.2"
  }
 },
 "nbformat": 4,
 "nbformat_minor": 5
}
