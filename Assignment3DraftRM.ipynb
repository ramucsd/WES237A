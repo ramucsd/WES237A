{
 "cells": [
  {
   "cell_type": "code",
   "execution_count": 1,
   "id": "661851a3",
   "metadata": {},
   "outputs": [],
   "source": [
    "import ctypes\n",
    "import time\n",
    "import os\n",
    "import multiprocessing\n",
    "\n",
    "_CCnt = ctypes.CDLL('./CCnt.so')"
   ]
  },
  {
   "cell_type": "markdown",
   "id": "75efcd1b",
   "metadata": {},
   "source": [
    "## Testing signed vs unsigned 32-bit integers"
   ]
  },
  {
   "cell_type": "code",
   "execution_count": 21,
   "id": "b8942afa",
   "metadata": {},
   "outputs": [
    {
     "name": "stdout",
     "output_type": "stream",
     "text": [
      "-1610404447\n",
      "2684562849\n"
     ]
    }
   ],
   "source": [
    "signed = _CCnt.getCC()\n",
    "unsigned = signed\n",
    "if unsigned < 0:\n",
    "    unsigned += 2**32\n",
    "print(signed)\n",
    "print(unsigned)"
   ]
  },
  {
   "cell_type": "code",
   "execution_count": 4,
   "id": "146bb1d6",
   "metadata": {},
   "outputs": [
    {
     "name": "stdout",
     "output_type": "stream",
     "text": [
      "2\n"
     ]
    }
   ],
   "source": [
    "t1 = 4294967295\n",
    "t2 = 1\n",
    "t3 = t2-t1\n",
    "t3 += 2**32\n",
    "print(t3)"
   ]
  },
  {
   "cell_type": "code",
   "execution_count": 2,
   "id": "8b504ce0",
   "metadata": {},
   "outputs": [],
   "source": [
    "def recur_fibo(n):\n",
    "   if n <= 1:\n",
    "       return n\n",
    "   else:\n",
    "       return(recur_fibo(n-1) + recur_fibo(n-2))\n"
   ]
  },
  {
   "cell_type": "code",
   "execution_count": 3,
   "id": "2db74661",
   "metadata": {},
   "outputs": [],
   "source": [
    "def timed_fib(CPU,n):\n",
    "    os.system(\"taskset -pc {} {}\".format(CPU,p_fib.pid))\n",
    "    \n",
    "    _CCnt.init(1,0) #initialize/reset counter\n",
    "    \n",
    "    t_before = time.time()\n",
    "    cc_before = _CCnt.getCC()\n",
    "\n",
    "    recur_fibo(n)\n",
    "        \n",
    "    cc_after = _CCnt.getCC()\n",
    "    t_after = time.time()\n",
    "\n",
    "    #convert to unsigned\n",
    "    if cc_after < 0:\n",
    "        cc_after += 2**32\n",
    "    if cc_before < 0:\n",
    "        cc_before += 2**32\n",
    "        \n",
    "    elapsed_time = t_after-t_before\n",
    "    num_cycles = cc_after-cc_before\n",
    "    \n",
    "    #account for possibility of overflow\n",
    "    if num_cycles < 0:\n",
    "        num_cycles += 2**32\n",
    "    \n",
    "    print('Cycle count before: {}'.format(cc_before))\n",
    "    print('Cycle count after: {}'.format(cc_after))\n",
    "    print('Number of Cycles: {}'.format(num_cycles))\n",
    "    print('Elapsed Time: {} sec'.format(elapsed_time))\n",
    "    \n",
    "    print('Calculated time based on CPU Frequency: {} sec'.format(num_cycles/650000000))"
   ]
  },
  {
   "cell_type": "markdown",
   "id": "ffbbc314",
   "metadata": {},
   "source": [
    "## Run recur_fibo on a specific CPU:"
   ]
  },
  {
   "cell_type": "code",
   "execution_count": 4,
   "id": "f458843e",
   "metadata": {},
   "outputs": [
    {
     "name": "stdout",
     "output_type": "stream",
     "text": [
      "Cycle count before: 73983\n",
      "Cycle count after: 2420086484\n",
      "Number of Cycles: 2420012501\n",
      "Elapsed Time: 3.723316192626953 sec\n",
      "Calculated time based on CPU Frequency: 3.7230961553846154 sec\n"
     ]
    }
   ],
   "source": [
    "n = 30\n",
    "CPU = 1\n",
    "\n",
    "#NOTE: This must be named p_fib in order to set the CPU affinity correctly\n",
    "p_fib = multiprocessing.Process(target=timed_fib, args=(CPU,n))\n",
    "p_fib.start()\n",
    "p_fib.join()"
   ]
  }
 ],
 "metadata": {
  "kernelspec": {
   "display_name": "Python 3",
   "language": "python",
   "name": "python3"
  },
  "language_info": {
   "codemirror_mode": {
    "name": "ipython",
    "version": 3
   },
   "file_extension": ".py",
   "mimetype": "text/x-python",
   "name": "python",
   "nbconvert_exporter": "python",
   "pygments_lexer": "ipython3",
   "version": "3.8.2"
  }
 },
 "nbformat": 4,
 "nbformat_minor": 5
}
