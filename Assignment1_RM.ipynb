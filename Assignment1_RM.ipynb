{
 "cells": [
  {
   "cell_type": "markdown",
   "metadata": {},
   "source": [
    "# Assignment 1"
   ]
  },
  {
   "cell_type": "code",
   "execution_count": null,
   "metadata": {},
   "outputs": [],
   "source": [
    "from pynq.overlays.base import BaseOverlay\n",
    "import time\n",
    "from datetime import datetime\n",
    "base = BaseOverlay(\"base.bit\")"
   ]
  },
  {
   "cell_type": "code",
   "execution_count": null,
   "metadata": {},
   "outputs": [],
   "source": [
    "%%microblaze base.PMODB\n",
    "\n",
    "#include \"gpio.h\"\n",
    "#include \"pyprintf.h\"\n",
    "\n",
    "//Function to turn on/off a selected pin of PMODB\n",
    "void write_gpio(unsigned int pin, unsigned int val){\n",
    "    if (val > 1){\n",
    "        pyprintf(\"pin value must be 0 or 1\");\n",
    "    }\n",
    "    gpio pin_out = gpio_open(pin);\n",
    "    gpio_set_direction(pin_out, GPIO_OUT);\n",
    "    gpio_write(pin_out, val);\n",
    "}\n",
    "\n",
    "//Function to read the value of a selected pin of PMODB\n",
    "unsigned int read_gpio(unsigned int pin){\n",
    "    gpio pin_in = gpio_open(pin);\n",
    "    gpio_set_direction(pin_in, GPIO_IN);\n",
    "    return gpio_read(pin_in);\n",
    "}\n",
    "\n",
    "//Reset GPIO to all 0\n",
    "void reset_gpio(){\n",
    "    for(int i = 0; i < 8; i++) {\n",
    "        write_gpio(i,0);\n",
    "    }\n",
    "}"
   ]
  },
  {
   "cell_type": "code",
   "execution_count": null,
   "metadata": {},
   "outputs": [],
   "source": [
    "write_gpio(0, 1)\n",
    "write_gpio(1, 1)\n",
    "write_gpio(2, 1)\n",
    "write_gpio(3, 1)"
   ]
  },
  {
   "cell_type": "code",
   "execution_count": null,
   "metadata": {},
   "outputs": [],
   "source": [
    "reset_gpio()"
   ]
  },
  {
   "cell_type": "markdown",
   "metadata": {},
   "source": [
    "# Assignment 1"
   ]
  },
  {
   "cell_type": "code",
   "execution_count": null,
   "metadata": {},
   "outputs": [],
   "source": [
    "from pynq.overlays.base import BaseOverlay\n",
    "import time\n",
    "from datetime import datetime\n",
    "base = BaseOverlay(\"base.bit\")\n",
    "from pynq.lib import Pmod_IO\n"
   ]
  },
  {
   "cell_type": "code",
   "execution_count": null,
   "metadata": {},
   "outputs": [],
   "source": [
    "#name pins corresponding to colors\n",
    "BLUE = Pmod_IO(base.PMODB,1,'out')\n",
    "GREEN = Pmod_IO(base.PMODB,2,'out')\n",
    "RED = Pmod_IO(base.PMODB,3,'out')"
   ]
  },
  {
   "cell_type": "code",
   "execution_count": null,
   "metadata": {},
   "outputs": [],
   "source": [
    "def pwm(freq,duty_cycle,pin,t):\n",
    "    if duty_cycle < 0.01:\n",
    "        pin.write(0)\n",
    "        print(\"Duty cycle <0.01: set to 0%\")\n",
    "        time.sleep(t)\n",
    "        return True\n",
    "    if duty_cycle > 0.99:\n",
    "        pin.write(1)\n",
    "        print(\"Duty cycle > 0.99: set to 100%\")\n",
    "        time.sleep(t)\n",
    "        pin.write(0)\n",
    "        return True\n",
    "    period = 1/freq\n",
    "    t_on = period*duty_cycle\n",
    "    t_off = period-t_on\n",
    "    t_end = time.time() + t;\n",
    "    while time.time() < t_end:\n",
    "        pin.write(1)\n",
    "        time.sleep(t_on)\n",
    "        pin.write(0)\n",
    "        time.sleep(t_off)\n",
    "    return True\n",
    "    "
   ]
  },
  {
   "cell_type": "code",
   "execution_count": null,
   "metadata": {},
   "outputs": [],
   "source": [
    "color = BLUE\n",
    "pwm(50,0.25,color,3)"
   ]
  },
  {
   "cell_type": "code",
   "execution_count": null,
   "metadata": {},
   "outputs": [],
   "source": [
    "color = BLUE\n",
    "dc = .01\n",
    "t = 3\n",
    "color.write(1)\n",
    "time.sleep(t)\n",
    "color.write(0)\n",
    "pwm(50,dc,color,3)\n",
    "color.write(1)\n",
    "time.sleep(t)\n",
    "color.write(0)"
   ]
  },
  {
   "cell_type": "markdown",
   "metadata": {},
   "source": [
    "# Part 6: Async"
   ]
  },
  {
   "cell_type": "code",
   "execution_count": null,
   "metadata": {},
   "outputs": [],
   "source": [
    "from pynq.overlays.base import BaseOverlay\n",
    "import time\n",
    "from datetime import datetime\n",
    "base = BaseOverlay(\"base.bit\")\n",
    "from pynq.lib import Pmod_IO\n",
    "\n",
    "#name pins corresponding to colors\n",
    "BLUE = Pmod_IO(base.PMODB,1,'out')\n",
    "GREEN = Pmod_IO(base.PMODB,2,'out')\n",
    "RED = Pmod_IO(base.PMODB,3,'out')\n"
   ]
  },
  {
   "cell_type": "code",
   "execution_count": null,
   "metadata": {},
   "outputs": [],
   "source": [
    "def reset_gpio():\n",
    "    BLUE.write(0)\n",
    "    GREEN.write(0)\n",
    "    RED.write(0)"
   ]
  },
  {
   "cell_type": "code",
   "execution_count": null,
   "metadata": {},
   "outputs": [],
   "source": [
    "import asyncio\n",
    "\n",
    "#power states\n",
    "ON = 1\n",
    "OFF = 0\n",
    "\n",
    "color = RED\n",
    "\n",
    "cond = True\n",
    "state = ON\n",
    "\n",
    "btns = base.btns_gpio\n",
    "\n",
    "freq = 50 #Hz\n",
    "duty_cycle = 25 #percent\n",
    "period = 1/freq\n",
    "t_on = period*duty_cycle/100\n",
    "t_off = period - t_on\n",
    "\n",
    "async def flash_leds():\n",
    "    global cond, state\n",
    "    while cond:\n",
    "        if state == ON:\n",
    "            for i in range(freq):\n",
    "                if state == OFF:\n",
    "                    break\n",
    "                color.write(1)\n",
    "                await asyncio.sleep(t_on)\n",
    "                reset_gpio()\n",
    "                await asyncio.sleep(t_off)\n",
    "            await asyncio.sleep(1) #off for 1 sec\n",
    "        else:\n",
    "            reset_gpio()\n",
    "            await asyncio.sleep(0.05)\n",
    "\n",
    "async def get_btns(_loop):\n",
    "    global cond, state, color\n",
    "    while cond:\n",
    "        await asyncio.sleep(0.01)\n",
    "        btn = btns.read()\n",
    "        if btn == 0x01:\n",
    "            color = RED\n",
    "            state = ON\n",
    "            print(\"red button pressed\")\n",
    "        elif btn == 0x02:\n",
    "            color = GREEN\n",
    "            state = ON\n",
    "            print(\"green button pressed\")\n",
    "        elif btn == 0x04:\n",
    "            color = BLUE\n",
    "            state = ON\n",
    "            print(\"blue button pressed\")\n",
    "        elif btn == 0x08:\n",
    "            reset_gpio()\n",
    "            state = OFF\n",
    "            print(\"off button pressed\")\n",
    "        elif btn > 0x08:\n",
    "            #press the off button and another at the same time to terminate loop\n",
    "            reset_gpio()\n",
    "            state = OFF\n",
    "            print(\"Loop Terminated.\")\n",
    "            cond = False\n",
    "            _loop.stop()\n",
    "\n",
    "loop = asyncio.new_event_loop()\n",
    "loop.create_task(flash_leds())\n",
    "loop.create_task(get_btns(loop))\n",
    "loop.run_forever()\n",
    "loop.close()        \n",
    "print(\"Done.\")"
   ]
  },
  {
   "cell_type": "code",
   "execution_count": null,
   "metadata": {},
   "outputs": [],
   "source": []
  }
 ],
 "metadata": {
  "kernelspec": {
   "display_name": "Python 3",
   "language": "python",
   "name": "python3"
  },
  "language_info": {
   "codemirror_mode": {
    "name": "ipython",
    "version": 3
   },
   "file_extension": ".py",
   "mimetype": "text/x-python",
   "name": "python",
   "nbconvert_exporter": "python",
   "pygments_lexer": "ipython3",
   "version": "3.8.2"
  }
 },
 "nbformat": 4,
 "nbformat_minor": 2
}
